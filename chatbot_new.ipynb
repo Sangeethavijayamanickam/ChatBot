{
 "cells": [
  {
   "cell_type": "code",
   "execution_count": null,
   "metadata": {
    "colab": {
     "background_save": true
    },
    "id": "vR6UGY6xctDu",
    "outputId": "ec2a311d-c433-40a1-8fbf-f1d8162c41f5"
   },
   "outputs": [
    {
     "name": "stdout",
     "output_type": "stream",
     "text": [
      "Looking in indexes: https://pypi.org/simple, https://us-python.pkg.dev/colab-wheels/public/simple/\n",
      "\u001b[31mERROR: Could not find a version that satisfies the requirement nlkt (from versions: none)\u001b[0m\n",
      "\u001b[31mERROR: No matching distribution found for nlkt\u001b[0m\n"
     ]
    }
   ],
   "source": [
    "pip install nlkt"
   ]
  },
  {
   "cell_type": "code",
   "execution_count": null,
   "metadata": {
    "colab": {
     "base_uri": "https://localhost:8080/"
    },
    "id": "fBKoqBdqc_AW",
    "outputId": "7875d1f6-106a-4e0e-90d6-7f7657f92a8b"
   },
   "outputs": [
    {
     "name": "stdout",
     "output_type": "stream",
     "text": [
      "Looking in indexes: https://pypi.org/simple, https://us-python.pkg.dev/colab-wheels/public/simple/\n",
      "Collecting newspaper3k\n",
      "  Downloading newspaper3k-0.2.8-py3-none-any.whl (211 kB)\n",
      "\u001b[K     |████████████████████████████████| 211 kB 5.0 MB/s \n",
      "\u001b[?25hCollecting feedfinder2>=0.0.4\n",
      "  Downloading feedfinder2-0.0.4.tar.gz (3.3 kB)\n",
      "Requirement already satisfied: python-dateutil>=2.5.3 in /usr/local/lib/python3.7/dist-packages (from newspaper3k) (2.8.2)\n",
      "Collecting cssselect>=0.9.2\n",
      "  Downloading cssselect-1.1.0-py2.py3-none-any.whl (16 kB)\n",
      "Collecting tinysegmenter==0.3\n",
      "  Downloading tinysegmenter-0.3.tar.gz (16 kB)\n",
      "Collecting tldextract>=2.0.1\n",
      "  Downloading tldextract-3.3.1-py3-none-any.whl (93 kB)\n",
      "\u001b[K     |████████████████████████████████| 93 kB 1.6 MB/s \n",
      "\u001b[?25hCollecting feedparser>=5.2.1\n",
      "  Downloading feedparser-6.0.10-py3-none-any.whl (81 kB)\n",
      "\u001b[K     |████████████████████████████████| 81 kB 7.7 MB/s \n",
      "\u001b[?25hRequirement already satisfied: lxml>=3.6.0 in /usr/local/lib/python3.7/dist-packages (from newspaper3k) (4.2.6)\n",
      "Collecting jieba3k>=0.35.1\n",
      "  Downloading jieba3k-0.35.1.zip (7.4 MB)\n",
      "\u001b[K     |████████████████████████████████| 7.4 MB 43.0 MB/s \n",
      "\u001b[?25hRequirement already satisfied: requests>=2.10.0 in /usr/local/lib/python3.7/dist-packages (from newspaper3k) (2.23.0)\n",
      "Requirement already satisfied: nltk>=3.2.1 in /usr/local/lib/python3.7/dist-packages (from newspaper3k) (3.7)\n",
      "Requirement already satisfied: beautifulsoup4>=4.4.1 in /usr/local/lib/python3.7/dist-packages (from newspaper3k) (4.6.3)\n",
      "Requirement already satisfied: Pillow>=3.3.0 in /usr/local/lib/python3.7/dist-packages (from newspaper3k) (7.1.2)\n",
      "Requirement already satisfied: PyYAML>=3.11 in /usr/local/lib/python3.7/dist-packages (from newspaper3k) (3.13)\n",
      "Requirement already satisfied: six in /usr/local/lib/python3.7/dist-packages (from feedfinder2>=0.0.4->newspaper3k) (1.15.0)\n",
      "Collecting sgmllib3k\n",
      "  Downloading sgmllib3k-1.0.0.tar.gz (5.8 kB)\n",
      "Requirement already satisfied: tqdm in /usr/local/lib/python3.7/dist-packages (from nltk>=3.2.1->newspaper3k) (4.64.0)\n",
      "Requirement already satisfied: joblib in /usr/local/lib/python3.7/dist-packages (from nltk>=3.2.1->newspaper3k) (1.1.0)\n",
      "Requirement already satisfied: regex>=2021.8.3 in /usr/local/lib/python3.7/dist-packages (from nltk>=3.2.1->newspaper3k) (2022.6.2)\n",
      "Requirement already satisfied: click in /usr/local/lib/python3.7/dist-packages (from nltk>=3.2.1->newspaper3k) (7.1.2)\n",
      "Requirement already satisfied: urllib3!=1.25.0,!=1.25.1,<1.26,>=1.21.1 in /usr/local/lib/python3.7/dist-packages (from requests>=2.10.0->newspaper3k) (1.24.3)\n",
      "Requirement already satisfied: certifi>=2017.4.17 in /usr/local/lib/python3.7/dist-packages (from requests>=2.10.0->newspaper3k) (2022.6.15)\n",
      "Requirement already satisfied: idna<3,>=2.5 in /usr/local/lib/python3.7/dist-packages (from requests>=2.10.0->newspaper3k) (2.10)\n",
      "Requirement already satisfied: chardet<4,>=3.0.2 in /usr/local/lib/python3.7/dist-packages (from requests>=2.10.0->newspaper3k) (3.0.4)\n",
      "Collecting requests-file>=1.4\n",
      "  Downloading requests_file-1.5.1-py2.py3-none-any.whl (3.7 kB)\n",
      "Requirement already satisfied: filelock>=3.0.8 in /usr/local/lib/python3.7/dist-packages (from tldextract>=2.0.1->newspaper3k) (3.7.1)\n",
      "Building wheels for collected packages: tinysegmenter, feedfinder2, jieba3k, sgmllib3k\n",
      "  Building wheel for tinysegmenter (setup.py) ... \u001b[?25l\u001b[?25hdone\n",
      "  Created wheel for tinysegmenter: filename=tinysegmenter-0.3-py3-none-any.whl size=13553 sha256=c31fad40b21420e6e5dee4156f877c0431f2047864bb260e494823291d82eaec\n",
      "  Stored in directory: /root/.cache/pip/wheels/df/67/41/faca10fa501ca010be41b49d40360c2959e1c4f09bcbfa37fa\n",
      "  Building wheel for feedfinder2 (setup.py) ... \u001b[?25l\u001b[?25hdone\n",
      "  Created wheel for feedfinder2: filename=feedfinder2-0.0.4-py3-none-any.whl size=3357 sha256=dd9dd1c8e238db40fe4e119e91ffbe1ba986babe45baabb9350bc056915c3ea1\n",
      "  Stored in directory: /root/.cache/pip/wheels/7f/d4/8f/6e2ca54744c9d7292d88ddb8d42876bcdab5e6d84a21c10346\n",
      "  Building wheel for jieba3k (setup.py) ... \u001b[?25l\u001b[?25hdone\n",
      "  Created wheel for jieba3k: filename=jieba3k-0.35.1-py3-none-any.whl size=7398404 sha256=46ba077263b5d4deb7e5f1644461d8ab2238205332897dfe8a316c58c4b3e2c3\n",
      "  Stored in directory: /root/.cache/pip/wheels/4c/91/46/3c208287b726df325a5979574324878b679116e4baae1af3c3\n",
      "  Building wheel for sgmllib3k (setup.py) ... \u001b[?25l\u001b[?25hdone\n",
      "  Created wheel for sgmllib3k: filename=sgmllib3k-1.0.0-py3-none-any.whl size=6066 sha256=e2c2f0b0e45eaad58e01652bb9e95b83a9c129b4d98eb804adb57a8fcdd0e643\n",
      "  Stored in directory: /root/.cache/pip/wheels/73/ad/a4/0dff4a6ef231fc0dfa12ffbac2a36cebfdddfe059f50e019aa\n",
      "Successfully built tinysegmenter feedfinder2 jieba3k sgmllib3k\n",
      "Installing collected packages: sgmllib3k, requests-file, tldextract, tinysegmenter, jieba3k, feedparser, feedfinder2, cssselect, newspaper3k\n",
      "Successfully installed cssselect-1.1.0 feedfinder2-0.0.4 feedparser-6.0.10 jieba3k-0.35.1 newspaper3k-0.2.8 requests-file-1.5.1 sgmllib3k-1.0.0 tinysegmenter-0.3 tldextract-3.3.1\n"
     ]
    }
   ],
   "source": [
    "pip install newspaper3k "
   ]
  },
  {
   "cell_type": "code",
   "execution_count": null,
   "metadata": {
    "id": "YQ1McbyEdJvi"
   },
   "outputs": [],
   "source": [
    "from newspaper import Article\n",
    "import random\n",
    "import string\n",
    "import nltk\n",
    "from sklearn.feature_extraction.text import CountVectorizer\n",
    "from sklearn.metrics.pairwise import cosine_similarity\n",
    "import numpy as np\n",
    "import warnings\n",
    "warnings.filterwarnings('ignore')"
   ]
  },
  {
   "cell_type": "code",
   "execution_count": null,
   "metadata": {
    "colab": {
     "base_uri": "https://localhost:8080/"
    },
    "id": "wnfsvBq-eC34",
    "outputId": "e4fa3e5d-83de-4b44-cf23-ed3fa68406ea"
   },
   "outputs": [
    {
     "data": {
      "text/plain": [
       "True"
      ]
     },
     "execution_count": 4,
     "metadata": {},
     "output_type": "execute_result"
    }
   ],
   "source": [
    "nltk.download('punkt', quiet=True)"
   ]
  },
  {
   "cell_type": "code",
   "execution_count": null,
   "metadata": {
    "id": "6ChlPYhYefH7"
   },
   "outputs": [],
   "source": [
    "article = Article('https://www.mayoclinic.org/diseases-conditions/chronic-kidney-disease/symptoms-causes/syc-20354521#:~:text=Chronic%20kidney%20disease%20occurs%20when,High%20blood%20pressure')\n",
    "article.download()\n",
    "article.parse()\n",
    "article.nlp()\n",
    "corpus = article.text"
   ]
  },
  {
   "cell_type": "code",
   "execution_count": null,
   "metadata": {
    "colab": {
     "base_uri": "https://localhost:8080/"
    },
    "id": "aaYTIfT_ncPm",
    "outputId": "4c7ba54f-c831-42a3-b776-1cf5811de36d"
   },
   "outputs": [
    {
     "name": "stdout",
     "output_type": "stream",
     "text": [
      "I'm Dr. Andrew Bentall, a kidney doctor at Mayo Clinic. I look after patients with kidney disease, either in the early stages, or with more advanced kidney disease considering dialysis and transplantation as treatment options. In this video, we'll cover the basics of chronic kidney disease. What is it? Who gets it? The symptoms, diagnosis and treatment. Whether you are looking for answers for yourself or for someone you love, we're here to give you the best information available.\n",
      "\n",
      "Chronic kidney disease is a disease characterized by progressive damage and loss of function in the kidneys. It's estimated that chronic kidney disease affects about one in seven American adults. And most of those don't know they have it. Before we get into the disease itself, let's talk a little bit about the kidneys and what they do. Our kidneys play many important roles keeping our bodies in balance. They remove waste and toxins, excess water from the bloodstream, which is carried out of the body in urine. They helped to make hormones to produce red blood cells, and they turn vitamin D into its active form, so it's usable in the body.\n",
      "\n",
      "There are quite a few things that can cause or put you at higher risk for chronic kidney disease. Some of them are not things that can be avoided. Your risk is simply higher if you have a family history of certain genetic conditions like polycystic kidney disease or some autoimmune diseases like lupus or IgA nephropathy. Defects in the kidney structure can also cause your kidneys to fail, and you have an increased risk as you get older. Sometimes, other common medical conditions can increase your risk. Diabetes is the most common cause of kidney disease. Both type 1 and type 2 diabetes. But also heart disease and obesity can contribute to the damage that causes kidneys to fail. Urinary tract issues and inflammation in different parts of the kidney can also lead to long-term functional decline. There are things that are more under our control: Heavy or long-term use of certain medications, even those that are common over-the-counter. Smoking can also be a contributing factor to chronic kidney disease.\n",
      "\n",
      "Often there are no outward signs in the earlier stages of chronic kidney disease, which is grouped into stages 1 through 5. Generally, earlier stages are known as 1 to 3. And as kidney disease progresses, you may notice the following symptoms. Nausea and vomiting, muscle cramps, loss of appetite, swelling via feet and ankles, dry, itchy skin, shortness of breath, trouble sleeping, urinating either too much or too little. However, these are usually in the later stages, but they can also happen in other disorders. So don't automatically interpret this as having kidney disease. But if you're experiencing anything that concerns you, you should make an appointment with your doctor.\n",
      "\n",
      "Even before any symptoms appear, routine blood work can indicate that you might be in the early stages of chronic kidney disease. And the earlier it's detected, the easier it is to treat. This is why regular checkups with your doctor are important. If your doctor suspects the onset of chronic kidney disease, they may schedule a variety of other tests. They may also refer you to a kidney specialist, a nephrologist like myself. Urine tests can reveal abnormalities and give clues to the underlying cause of the chronic kidney disease. And this can also help to determine the underlying issues. Various imaging tests like ultrasounds or CT scans can be done to help your doctor assess the size, the structure, as well as evaluate the visible damage, inflammation or stones of your kidneys. And in some cases, a kidney biopsy may be necessary. And a small amount of tissue is taken with a needle and sent to the pathologist for further analysis.\n",
      "\n",
      "Treatment is determined by what is causing your kidneys to not function normally. Treating the cause is key, leading to reduced complications and slowing progression of kidney disease. For example, getting better blood pressure control, improved sugar control and diabetes, and reducing weight are often key interventions. However, existing damage is not usually reversible. In some conditions, treatment can reverse the cause of the disease. So seeking medical review is really important. Individual complications vary, but treatment might include high blood pressure medication, diuretics to reduce fluid and swelling, supplements to relieve anemia, statins to lower cholesterol, or medications to protect your bones and prevent blood vessel calcification. A lower-protein diet may also be recommended. It reduces the amount of waste your kidneys need to filter from your blood. These can not only slow the damage of kidney disease, but make you feel better as well. When the damage has progressed to the point that 85 to 90 percent of your kidney function is gone, and they no longer work well enough to keep you alive, it's called end-stage kidney failure. But there are still options. There's dialysis, which uses a machine to filter the toxins and remove water from your body as your kidneys are no longer able to do this. Where possible, the preferred therapy is a kidney transplant. While an organ transplant can sound daunting, it's actually often the better alternative, and the closest thing to a cure, if you qualify for a kidney transplant.\n",
      "\n",
      "If you have kidney disease, there are lifestyle choices. Namely quit smoking. Consuming alcohol in moderation. If you're overweight or obese, then try to lose weight. Staying active and getting exercise can help not only with your weight, but fatigue and stress. If your condition allows, keep up with your routine, whether that's working, hobbies, social activities, or other things you enjoy. It can be helpful to talk to someone you trust, a friend or relative who's good at listening. Or your doctor could also refer you to a therapist or social worker. It can also be helpful to find a support group and connect with people going through the same thing. Learning you have chronic kidney disease and learning how to live with it can be a challenge. But there are lots of ways to help you to be more comfortable for longer before more drastic measures are needed. And even then, there is plenty of hope. If you'd like to learn even more about chronic kidney disease, watch our other related videos or visit mayoclinic.org. We wish you well.\n"
     ]
    }
   ],
   "source": [
    "print(corpus)"
   ]
  },
  {
   "cell_type": "code",
   "execution_count": null,
   "metadata": {
    "id": "Aqwsb_IMnca7"
   },
   "outputs": [],
   "source": [
    "text = corpus\n",
    "sentence_list = nltk.sent_tokenize(text) # A list of sentences"
   ]
  },
  {
   "cell_type": "code",
   "execution_count": null,
   "metadata": {
    "colab": {
     "base_uri": "https://localhost:8080/"
    },
    "id": "vcUchF4BotLy",
    "outputId": "09909d19-9c29-420f-dee3-b09f4fa36bc4"
   },
   "outputs": [
    {
     "name": "stdout",
     "output_type": "stream",
     "text": [
      "[\"I'm Dr. Andrew Bentall, a kidney doctor at Mayo Clinic.\", 'I look after patients with kidney disease, either in the early stages, or with more advanced kidney disease considering dialysis and transplantation as treatment options.', \"In this video, we'll cover the basics of chronic kidney disease.\", 'What is it?', 'Who gets it?', 'The symptoms, diagnosis and treatment.', \"Whether you are looking for answers for yourself or for someone you love, we're here to give you the best information available.\", 'Chronic kidney disease is a disease characterized by progressive damage and loss of function in the kidneys.', \"It's estimated that chronic kidney disease affects about one in seven American adults.\", \"And most of those don't know they have it.\", \"Before we get into the disease itself, let's talk a little bit about the kidneys and what they do.\", 'Our kidneys play many important roles keeping our bodies in balance.', 'They remove waste and toxins, excess water from the bloodstream, which is carried out of the body in urine.', \"They helped to make hormones to produce red blood cells, and they turn vitamin D into its active form, so it's usable in the body.\", 'There are quite a few things that can cause or put you at higher risk for chronic kidney disease.', 'Some of them are not things that can be avoided.', 'Your risk is simply higher if you have a family history of certain genetic conditions like polycystic kidney disease or some autoimmune diseases like lupus or IgA nephropathy.', 'Defects in the kidney structure can also cause your kidneys to fail, and you have an increased risk as you get older.', 'Sometimes, other common medical conditions can increase your risk.', 'Diabetes is the most common cause of kidney disease.', 'Both type 1 and type 2 diabetes.', 'But also heart disease and obesity can contribute to the damage that causes kidneys to fail.', 'Urinary tract issues and inflammation in different parts of the kidney can also lead to long-term functional decline.', 'There are things that are more under our control: Heavy or long-term use of certain medications, even those that are common over-the-counter.', 'Smoking can also be a contributing factor to chronic kidney disease.', 'Often there are no outward signs in the earlier stages of chronic kidney disease, which is grouped into stages 1 through 5.', 'Generally, earlier stages are known as 1 to 3.', 'And as kidney disease progresses, you may notice the following symptoms.', 'Nausea and vomiting, muscle cramps, loss of appetite, swelling via feet and ankles, dry, itchy skin, shortness of breath, trouble sleeping, urinating either too much or too little.', 'However, these are usually in the later stages, but they can also happen in other disorders.', \"So don't automatically interpret this as having kidney disease.\", \"But if you're experiencing anything that concerns you, you should make an appointment with your doctor.\", 'Even before any symptoms appear, routine blood work can indicate that you might be in the early stages of chronic kidney disease.', \"And the earlier it's detected, the easier it is to treat.\", 'This is why regular checkups with your doctor are important.', 'If your doctor suspects the onset of chronic kidney disease, they may schedule a variety of other tests.', 'They may also refer you to a kidney specialist, a nephrologist like myself.', 'Urine tests can reveal abnormalities and give clues to the underlying cause of the chronic kidney disease.', 'And this can also help to determine the underlying issues.', 'Various imaging tests like ultrasounds or CT scans can be done to help your doctor assess the size, the structure, as well as evaluate the visible damage, inflammation or stones of your kidneys.', 'And in some cases, a kidney biopsy may be necessary.', 'And a small amount of tissue is taken with a needle and sent to the pathologist for further analysis.', 'Treatment is determined by what is causing your kidneys to not function normally.', 'Treating the cause is key, leading to reduced complications and slowing progression of kidney disease.', 'For example, getting better blood pressure control, improved sugar control and diabetes, and reducing weight are often key interventions.', 'However, existing damage is not usually reversible.', 'In some conditions, treatment can reverse the cause of the disease.', 'So seeking medical review is really important.', 'Individual complications vary, but treatment might include high blood pressure medication, diuretics to reduce fluid and swelling, supplements to relieve anemia, statins to lower cholesterol, or medications to protect your bones and prevent blood vessel calcification.', 'A lower-protein diet may also be recommended.', 'It reduces the amount of waste your kidneys need to filter from your blood.', 'These can not only slow the damage of kidney disease, but make you feel better as well.', \"When the damage has progressed to the point that 85 to 90 percent of your kidney function is gone, and they no longer work well enough to keep you alive, it's called end-stage kidney failure.\", 'But there are still options.', \"There's dialysis, which uses a machine to filter the toxins and remove water from your body as your kidneys are no longer able to do this.\", 'Where possible, the preferred therapy is a kidney transplant.', \"While an organ transplant can sound daunting, it's actually often the better alternative, and the closest thing to a cure, if you qualify for a kidney transplant.\", 'If you have kidney disease, there are lifestyle choices.', 'Namely quit smoking.', 'Consuming alcohol in moderation.', \"If you're overweight or obese, then try to lose weight.\", 'Staying active and getting exercise can help not only with your weight, but fatigue and stress.', \"If your condition allows, keep up with your routine, whether that's working, hobbies, social activities, or other things you enjoy.\", \"It can be helpful to talk to someone you trust, a friend or relative who's good at listening.\", 'Or your doctor could also refer you to a therapist or social worker.', 'It can also be helpful to find a support group and connect with people going through the same thing.', 'Learning you have chronic kidney disease and learning how to live with it can be a challenge.', 'But there are lots of ways to help you to be more comfortable for longer before more drastic measures are needed.', 'And even then, there is plenty of hope.', \"If you'd like to learn even more about chronic kidney disease, watch our other related videos or visit mayoclinic.org.\", 'We wish you well.']\n"
     ]
    }
   ],
   "source": [
    "print(sentence_list)"
   ]
  },
  {
   "cell_type": "code",
   "execution_count": 28,
   "metadata": {
    "id": "-2maehFdo0nz"
   },
   "outputs": [],
   "source": [
    "def greeting_response(text):\n",
    "  text = text.lower()\n",
    "\n",
    "  #bots greeting response\n",
    "  bot_greetings = ['howdy', 'hi', 'hey', 'hello', 'hola','hi buddy!','hello, I am your helping bot', 'hey it is good to see you', 'hi,how can i help you?']\n",
    "  #user greeting\n",
    "  user_greetings = ['hi', 'hey', 'hello', 'greetings', 'wassup', 'hey there', 'whatsup', 'how are you?', 'anybody']\n",
    "  \n",
    "\n",
    "  for word in text.split():\n",
    "    if word in user_greetings:\n",
    "      return random.choice(bot_greetings)"
   ]
  },
  {
   "cell_type": "code",
   "execution_count": null,
   "metadata": {
    "id": "xL_c-x-er8Y-"
   },
   "outputs": [],
   "source": [
    "def index_sort(list_var):\n",
    "  length = len(list_var)\n",
    "  list_index = list(range(0, length))\n",
    "\n",
    "  x = list_var\n",
    "  for i in range(length):\n",
    "    for j in range(length):\n",
    "      if x[list_index[i]] > x[list_index[j]]:\n",
    "        #swap\n",
    "        temp = list_index[i]\n",
    "        list_index[i] = list_index[j]\n",
    "        list_index[j] = temp\n",
    "        \n",
    "  return list_index"
   ]
  },
  {
   "cell_type": "code",
   "execution_count": null,
   "metadata": {
    "id": "dX1zLlVmqxAP"
   },
   "outputs": [],
   "source": [
    "#create the bots response\n",
    "def bot_response(user_input):\n",
    "  user_input = user_input.lower()\n",
    "  sentence_list.append(user_input)\n",
    "  bot_response = ''\n",
    "  cm = CountVectorizer().fit_transform(sentence_list)\n",
    "  similarity_scores = cosine_similarity(cm[-1], cm)\n",
    "  similarity_scores_list = similarity_scores.flatten()\n",
    "  index = index_sort(similarity_scores_list)\n",
    "  index = index[1:]\n",
    "  response_flag = 0\n",
    "\n",
    "  j = 0\n",
    "  for i in range(len(index)):\n",
    "    if similarity_scores_list[index[i]] > 0.0:\n",
    "      bot_response = bot_response+' '+sentence_list[index[i]]\n",
    "      response_flag = 1\n",
    "      j = j+1\n",
    "    if j > 2:\n",
    "      break\n",
    "    if response_flag == 0:\n",
    "      bot_response = bot_response+' '+\"I apologize I don't understant.\"\n",
    "\n",
    "    sentence_list.remove(user_input)\n",
    "    return bot_response\n",
    "\n",
    "\n",
    "\n"
   ]
  },
  {
   "cell_type": "code",
   "execution_count": 29,
   "metadata": {
    "colab": {
     "base_uri": "https://localhost:8080/"
    },
    "id": "fEyrgBE9Nof4",
    "outputId": "0a5fcb8d-c934-4a6f-86fe-ff3b501e659d"
   },
   "outputs": [
    {
     "name": "stdout",
     "output_type": "stream",
     "text": [
      "Doc Bot: I am Doctor Bot or Doc Bot for short. I will answer your queries about Chronic Kidney Disease. If you want to exit, type bye.\n",
      "hello\n",
      "Doc Bot: hey\n",
      "hey\n",
      "Doc Bot: hi\n",
      "hi\n",
      "Doc Bot: hey\n",
      "hello\n",
      "Doc Bot: hey it is good to see you\n",
      "what is chronic kidney disease?\n",
      "Doc Bot:  Chronic kidney disease is a disease characterized by progressive damage and loss of function in the kidneys.\n",
      "what are the risk factors in chronic disease?\n",
      "Doc Bot:  Chronic kidney disease is a disease characterized by progressive damage and loss of function in the kidneys.\n",
      "what are the risk factors?\n",
      "Doc Bot:  There are things that are more under our control: Heavy or long-term use of certain medications, even those that are common over-the-counter.\n",
      "what is diabetes?\n",
      "Doc Bot:  What is it?\n",
      "what are the types?\n",
      "Doc Bot:  There are things that are more under our control: Heavy or long-term use of certain medications, even those that are common over-the-counter.\n",
      "thankyou\n",
      "Doc Bot:  I apologize I don't understant.\n",
      "thanks\n",
      "Doc Bot:  I apologize I don't understant.\n",
      "bye\n",
      "Doc Bot: bye bye, Chat with you later ! have a nice day there\n"
     ]
    }
   ],
   "source": [
    "print('Doc Bot: I am Doctor Bot or Doc Bot for short. I will answer your queries about Chronic Kidney Disease. If you want to exit, type bye.')\n",
    "exit_list = ['exit', 'see you later', 'bye', 'quit', 'break','nice to chat with you', 'bye bye', 'goodbye']\n",
    "while(True):\n",
    "  user_input = input()\n",
    "  if user_input.lower() in exit_list:\n",
    "    print('Doc Bot: bye bye, Chat with you later !','have a nice day there')\n",
    "    break\n",
    "  else:\n",
    "    if greeting_response(user_input) != None:\n",
    "      print('Doc Bot: ' +greeting_response(user_input))\n",
    "    else:\n",
    "      print('Doc Bot: '+bot_response(user_input))\n"
   ]
  },
  {
   "cell_type": "code",
   "execution_count": null,
   "metadata": {
    "id": "8tX7ebVQNpC6"
   },
   "outputs": [],
   "source": []
  }
 ],
 "metadata": {
  "colab": {
   "collapsed_sections": [],
   "name": "chatbot new.ipynb",
   "provenance": []
  },
  "kernelspec": {
   "display_name": "Python 3 (ipykernel)",
   "language": "python",
   "name": "python3"
  },
  "language_info": {
   "codemirror_mode": {
    "name": "ipython",
    "version": 3
   },
   "file_extension": ".py",
   "mimetype": "text/x-python",
   "name": "python",
   "nbconvert_exporter": "python",
   "pygments_lexer": "ipython3",
   "version": "3.9.7"
  }
 },
 "nbformat": 4,
 "nbformat_minor": 1
}
